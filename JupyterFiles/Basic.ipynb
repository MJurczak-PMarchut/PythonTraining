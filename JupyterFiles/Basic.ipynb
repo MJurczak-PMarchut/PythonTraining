{
 "cells": [
  {
   "cell_type": "markdown",
   "id": "025c5cf3",
   "metadata": {},
   "source": [
    "Basic variable types like int, float, str"
   ]
  },
  {
   "cell_type": "markdown",
   "id": "28f15c1e",
   "metadata": {},
   "source": [
    "Operators\n",
    "+ add\n",
    "- substract\n",
    "* multiply\n",
    "/ divide\n",
    "// divide without change of type\n",
    "% modulo"
   ]
  },
  {
   "cell_type": "markdown",
   "id": "52677bb0",
   "metadata": {},
   "source": [
    "INT is a type that stores integer values of theoretically unlimited size\n",
    "All operations on it behave as one could expect "
   ]
  },
  {
   "cell_type": "code",
   "execution_count": 2,
   "id": "5bc0b6a2",
   "metadata": {},
   "outputs": [
    {
     "name": "stdout",
     "output_type": "stream",
     "text": [
      "C = 7282317728217829075932575759258226707834209077265729242427117287287877242424242342424242262294242389392271323663275\n"
     ]
    }
   ],
   "source": [
    "A = 5\n",
    "B = 1456463545643565815186515151851645341566841815453145848485423457457575448484848468484848452458848477878454264732655\n",
    "C = A*B\n",
    "print(\"C =\", C)"
   ]
  },
  {
   "cell_type": "markdown",
   "id": "6efd7eee",
   "metadata": {},
   "source": [
    "Float is a way to store numbers that have a fraction or are a result of division that could generate it"
   ]
  },
  {
   "cell_type": "code",
   "execution_count": 3,
   "id": "98249c68",
   "metadata": {
    "scrolled": true
   },
   "outputs": [
    {
     "name": "stdout",
     "output_type": "stream",
     "text": [
      "D = 2.9129270912871315e+113\n",
      "type of D is <class 'float'>\n"
     ]
    }
   ],
   "source": [
    "D = B/A\n",
    "print(\"D =\", D)\n",
    "print(\"type of D is\", type(D))"
   ]
  },
  {
   "cell_type": "markdown",
   "id": "d74750df",
   "metadata": {},
   "source": [
    "One can assign float value using a notation with a ."
   ]
  },
  {
   "cell_type": "markdown",
   "id": "3c2592c6",
   "metadata": {},
   "source": [
    "unlike ints floats have a limited max value and limited precision\n",
    "so 1 is not always 1 but for example 1.0000000000000000000004"
   ]
  },
  {
   "cell_type": "code",
   "execution_count": 4,
   "id": "b9233ae8",
   "metadata": {},
   "outputs": [
    {
     "name": "stdout",
     "output_type": "stream",
     "text": [
      "F = inf\n"
     ]
    }
   ],
   "source": [
    "F = 1.7976931348623157e+308\n",
    "print(\"F =\", F*1.1)"
   ]
  }
 ],
 "metadata": {
  "kernelspec": {
   "display_name": "Python 3 (ipykernel)",
   "language": "python",
   "name": "python3"
  },
  "language_info": {
   "codemirror_mode": {
    "name": "ipython",
    "version": 3
   },
   "file_extension": ".py",
   "mimetype": "text/x-python",
   "name": "python",
   "nbconvert_exporter": "python",
   "pygments_lexer": "ipython3",
   "version": "3.10.3"
  }
 },
 "nbformat": 4,
 "nbformat_minor": 5
}
